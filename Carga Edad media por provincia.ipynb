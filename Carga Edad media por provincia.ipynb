{
 "cells": [
  {
   "cell_type": "code",
   "execution_count": 23,
   "id": "835932cb-be68-42c0-bdee-26323d72495a",
   "metadata": {},
   "outputs": [],
   "source": [
    "import pandas as pd\n",
    "from datetime import datetime"
   ]
  },
  {
   "cell_type": "code",
   "execution_count": 24,
   "id": "97266b41-e9f9-4a8f-a58b-1b0136a93ad4",
   "metadata": {},
   "outputs": [
    {
     "data": {
      "text/html": [
       "<div>\n",
       "<style scoped>\n",
       "    .dataframe tbody tr th:only-of-type {\n",
       "        vertical-align: middle;\n",
       "    }\n",
       "\n",
       "    .dataframe tbody tr th {\n",
       "        vertical-align: top;\n",
       "    }\n",
       "\n",
       "    .dataframe thead th {\n",
       "        text-align: right;\n",
       "    }\n",
       "</style>\n",
       "<table border=\"1\" class=\"dataframe\">\n",
       "  <thead>\n",
       "    <tr style=\"text-align: right;\">\n",
       "      <th></th>\n",
       "      <th>Provincias</th>\n",
       "      <th>Sexo</th>\n",
       "      <th>Periodo</th>\n",
       "      <th>Total</th>\n",
       "    </tr>\n",
       "  </thead>\n",
       "  <tbody>\n",
       "    <tr>\n",
       "      <th>150</th>\n",
       "      <td>02 Albacete</td>\n",
       "      <td>Ambos sexos</td>\n",
       "      <td>2024</td>\n",
       "      <td>44.59</td>\n",
       "    </tr>\n",
       "    <tr>\n",
       "      <th>151</th>\n",
       "      <td>02 Albacete</td>\n",
       "      <td>Ambos sexos</td>\n",
       "      <td>2023</td>\n",
       "      <td>44.34</td>\n",
       "    </tr>\n",
       "    <tr>\n",
       "      <th>152</th>\n",
       "      <td>02 Albacete</td>\n",
       "      <td>Ambos sexos</td>\n",
       "      <td>2022</td>\n",
       "      <td>44.14</td>\n",
       "    </tr>\n",
       "    <tr>\n",
       "      <th>153</th>\n",
       "      <td>02 Albacete</td>\n",
       "      <td>Ambos sexos</td>\n",
       "      <td>2021</td>\n",
       "      <td>43.85</td>\n",
       "    </tr>\n",
       "    <tr>\n",
       "      <th>154</th>\n",
       "      <td>02 Albacete</td>\n",
       "      <td>Ambos sexos</td>\n",
       "      <td>2020</td>\n",
       "      <td>43.67</td>\n",
       "    </tr>\n",
       "  </tbody>\n",
       "</table>\n",
       "</div>"
      ],
      "text/plain": [
       "      Provincias         Sexo  Periodo  Total\n",
       "150  02 Albacete  Ambos sexos     2024  44.59\n",
       "151  02 Albacete  Ambos sexos     2023  44.34\n",
       "152  02 Albacete  Ambos sexos     2022  44.14\n",
       "153  02 Albacete  Ambos sexos     2021  43.85\n",
       "154  02 Albacete  Ambos sexos     2020  43.67"
      ]
     },
     "execution_count": 24,
     "metadata": {},
     "output_type": "execute_result"
    }
   ],
   "source": [
    "df = pd.read_csv('./Descargados/Edad media por provincia.csv', \n",
    "                  sep = ';',\n",
    "                  dtype = 'string')\n",
    "df = df[df.Provincias != 'Total Nacional']\n",
    "df.Total = df.Total.str.replace(',','.').astype('float64')\n",
    "df.Periodo = df.Periodo.astype('int64')\n",
    "df.head()"
   ]
  },
  {
   "cell_type": "code",
   "execution_count": 25,
   "id": "06fa8320-72de-4caa-a99c-ee6d29aa00f7",
   "metadata": {},
   "outputs": [
    {
     "data": {
      "text/html": [
       "<div>\n",
       "<style scoped>\n",
       "    .dataframe tbody tr th:only-of-type {\n",
       "        vertical-align: middle;\n",
       "    }\n",
       "\n",
       "    .dataframe tbody tr th {\n",
       "        vertical-align: top;\n",
       "    }\n",
       "\n",
       "    .dataframe thead th {\n",
       "        text-align: right;\n",
       "    }\n",
       "</style>\n",
       "<table border=\"1\" class=\"dataframe\">\n",
       "  <thead>\n",
       "    <tr style=\"text-align: right;\">\n",
       "      <th>Sexo</th>\n",
       "      <th>Provincia</th>\n",
       "      <th>Anio</th>\n",
       "      <th>Total</th>\n",
       "      <th>Hombres</th>\n",
       "      <th>Mujeres</th>\n",
       "    </tr>\n",
       "  </thead>\n",
       "  <tbody>\n",
       "    <tr>\n",
       "      <th>0</th>\n",
       "      <td>Araba/Álava</td>\n",
       "      <td>1975</td>\n",
       "      <td>31.04</td>\n",
       "      <td>30.36</td>\n",
       "      <td>31.73</td>\n",
       "    </tr>\n",
       "    <tr>\n",
       "      <th>1</th>\n",
       "      <td>Araba/Álava</td>\n",
       "      <td>1976</td>\n",
       "      <td>31.11</td>\n",
       "      <td>30.43</td>\n",
       "      <td>31.80</td>\n",
       "    </tr>\n",
       "    <tr>\n",
       "      <th>2</th>\n",
       "      <td>Araba/Álava</td>\n",
       "      <td>1977</td>\n",
       "      <td>31.19</td>\n",
       "      <td>30.49</td>\n",
       "      <td>31.90</td>\n",
       "    </tr>\n",
       "    <tr>\n",
       "      <th>3</th>\n",
       "      <td>Araba/Álava</td>\n",
       "      <td>1978</td>\n",
       "      <td>31.32</td>\n",
       "      <td>30.60</td>\n",
       "      <td>32.05</td>\n",
       "    </tr>\n",
       "    <tr>\n",
       "      <th>4</th>\n",
       "      <td>Araba/Álava</td>\n",
       "      <td>1979</td>\n",
       "      <td>31.50</td>\n",
       "      <td>30.77</td>\n",
       "      <td>32.24</td>\n",
       "    </tr>\n",
       "  </tbody>\n",
       "</table>\n",
       "</div>"
      ],
      "text/plain": [
       "Sexo    Provincia  Anio  Total  Hombres  Mujeres\n",
       "0     Araba/Álava  1975  31.04    30.36    31.73\n",
       "1     Araba/Álava  1976  31.11    30.43    31.80\n",
       "2     Araba/Álava  1977  31.19    30.49    31.90\n",
       "3     Araba/Álava  1978  31.32    30.60    32.05\n",
       "4     Araba/Álava  1979  31.50    30.77    32.24"
      ]
     },
     "execution_count": 25,
     "metadata": {},
     "output_type": "execute_result"
    }
   ],
   "source": [
    "df2 = df.pivot_table(index=['Provincias', 'Periodo'], columns='Sexo', values='Total', aggfunc='sum').reset_index()\n",
    "df2.Provincias = df2.Provincias.str[3:]\n",
    "df2.rename(columns = {'Provincias':'Provincia',\n",
    "                      'Periodo':'Anio',\n",
    "                     'Ambos sexos':'Total'},\n",
    "          inplace = True)\n",
    "df2.head()"
   ]
  },
  {
   "cell_type": "code",
   "execution_count": 27,
   "id": "38d96387-3c4d-4b2e-ab6b-3d471a8001fc",
   "metadata": {},
   "outputs": [
    {
     "name": "stdout",
     "output_type": "stream",
     "text": [
      "2025-07-03 20:07:27.389076  - guardado\n"
     ]
    }
   ],
   "source": [
    "df2.to_csv('./Transformados/Dataset_Edad_media_provincias.csv', sep = ';', index = False)\n",
    "print(datetime.now(), ' - guardado')"
   ]
  },
  {
   "cell_type": "code",
   "execution_count": null,
   "id": "dce6782f-f0a2-48c7-a3b5-ad74e64700e0",
   "metadata": {},
   "outputs": [],
   "source": []
  }
 ],
 "metadata": {
  "kernelspec": {
   "display_name": "Python 3 (ipykernel)",
   "language": "python",
   "name": "python3"
  },
  "language_info": {
   "codemirror_mode": {
    "name": "ipython",
    "version": 3
   },
   "file_extension": ".py",
   "mimetype": "text/x-python",
   "name": "python",
   "nbconvert_exporter": "python",
   "pygments_lexer": "ipython3",
   "version": "3.12.7"
  }
 },
 "nbformat": 4,
 "nbformat_minor": 5
}
